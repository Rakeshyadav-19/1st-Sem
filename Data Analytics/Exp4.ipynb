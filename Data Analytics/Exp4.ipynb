{
 "cells": [
  {
   "cell_type": "markdown",
   "metadata": {},
   "source": [
    "Working with Pandas data frames "
   ]
  },
  {
   "cell_type": "code",
   "execution_count": 5,
   "metadata": {},
   "outputs": [
    {
     "name": "stdout",
     "output_type": "stream",
     "text": [
      "2.2.1\n"
     ]
    }
   ],
   "source": [
    "# Checking Pandas Version\n",
    "import pandas as pd\n",
    "\n",
    "print(pd.__version__)"
   ]
  },
  {
   "cell_type": "markdown",
   "metadata": {},
   "source": [
    "Data Structures in Pandas Library\n",
    "Pandas generally provide two data structures for manipulating data. They are:\n",
    "    • Series\n",
    "    • DataFrame"
   ]
  },
  {
   "cell_type": "code",
   "execution_count": 6,
   "metadata": {},
   "outputs": [
    {
     "name": "stdout",
     "output_type": "stream",
     "text": [
      "0    1\n",
      "1    7\n",
      "2    2\n",
      "dtype: int64\n",
      "7\n"
     ]
    }
   ],
   "source": [
    "# Pandas Series\n",
    "a = [1,7,2]\n",
    "myvar = pd.Series(a)\n",
    "print(myvar)\n",
    "# Labels\n",
    "a = [1,7,2]\n",
    "myvar = pd.Series(a, index = [\"x\",\"y\",\"z\"])\n",
    "print(myvar['y'])"
   ]
  },
  {
   "cell_type": "code",
   "execution_count": 7,
   "metadata": {},
   "outputs": [
    {
     "name": "stdout",
     "output_type": "stream",
     "text": [
      "   calories  duration\n",
      "0       420        50\n",
      "1       380        40\n",
      "2       390        45\n",
      "      calories  duration\n",
      "day1       420        50\n",
      "day2       380        40\n",
      "day3       390        45\n",
      "calories    420\n",
      "duration     50\n",
      "Name: day1, dtype: int64\n"
     ]
    }
   ],
   "source": [
    "# DataFrames\n",
    "data = {\n",
    "    \"calories\": [420,380,390],\n",
    "    \"duration\": [50,40,45]\n",
    "}\n",
    "myvar = pd.DataFrame(data)\n",
    "print(myvar)\n",
    "\n",
    "# Names Index\n",
    "df = pd.DataFrame(data, index = [\"day1\",\"day2\",\"day3\"])\n",
    "print(df)\n",
    "\n",
    "# Locate Row\n",
    "#refer to the row index:\n",
    "print(df.loc['day1'])"
   ]
  },
  {
   "cell_type": "markdown",
   "metadata": {},
   "source": [
    "Load Files in to a DataFrame, Read CSV Files"
   ]
  },
  {
   "cell_type": "code",
   "execution_count": 10,
   "metadata": {},
   "outputs": [
    {
     "name": "stdout",
     "output_type": "stream",
     "text": [
      "   rollno    name\n",
      "0       1     rax\n",
      "1       2  rakesh\n",
      "2       3  ramesh\n",
      "   rollno    name\n",
      "0       1     rax\n",
      "1       2  rakesh\n",
      "2       3  ramesh\n",
      "9999\n",
      "   rollno    name\n",
      "0       1     rax\n",
      "1       2  rakesh\n",
      "2       3  ramesh\n"
     ]
    }
   ],
   "source": [
    "df = pd.read_csv('/home/rax/Documents/GIT/Sems/All Sems/Data Analytics/CSV/EXP4.csv')\n",
    "print(df)\n",
    "print(df.to_string())\n",
    "print(pd.options.display.max_rows) # number of rows returned\n",
    "# Increase the maximum number of rows to display the entire DataFrame:\n",
    "pd.options.display.max_rows=9999\n",
    "df = pd.read_csv('/home/rax/Documents/GIT/Sems/All Sems/Data Analytics/CSV/EXP4.csv')\n",
    "print(df)"
   ]
  },
  {
   "cell_type": "code",
   "execution_count": 9,
   "metadata": {},
   "outputs": [
    {
     "name": "stdout",
     "output_type": "stream",
     "text": [
      "<class 'pandas.core.frame.DataFrame'>\n",
      "RangeIndex: 6 entries, 0 to 5\n",
      "Data columns (total 2 columns):\n",
      " #   Column  Non-Null Count  Dtype \n",
      "---  ------  --------------  ----- \n",
      " 0   rollno  6 non-null      int64 \n",
      " 1   name    6 non-null      object\n",
      "dtypes: int64(1), object(1)\n",
      "memory usage: 228.0+ bytes\n",
      "None\n",
      "   rollno    name\n",
      "0       1     rax\n",
      "1       2  rakesh\n",
      "2       3  ramesh\n",
      "3       4     ram\n",
      "4       5  rajesh\n",
      "   rollno    name\n",
      "1       2  rakesh\n",
      "2       3  ramesh\n",
      "3       4     ram\n",
      "4       5  rajesh\n",
      "5       6     raj\n"
     ]
    }
   ],
   "source": [
    "# Gives all the information of the data file\n",
    "print(df.info())\n",
    "# To print first rows, we can also give how much row we want to pass\n",
    "print(df.head()) #By default it shows first 5\n",
    "# To print last rows, we can also give how much rows from below we\n",
    "print(df.tail())"
   ]
  }
 ],
 "metadata": {
  "kernelspec": {
   "display_name": "Python 3",
   "language": "python",
   "name": "python3"
  },
  "language_info": {
   "codemirror_mode": {
    "name": "ipython",
    "version": 3
   },
   "file_extension": ".py",
   "mimetype": "text/x-python",
   "name": "python",
   "nbconvert_exporter": "python",
   "pygments_lexer": "ipython3",
   "version": "3.12.2"
  }
 },
 "nbformat": 4,
 "nbformat_minor": 2
}
