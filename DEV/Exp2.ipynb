{
 "cells": [
  {
   "cell_type": "code",
   "execution_count": 1,
   "metadata": {},
   "outputs": [],
   "source": [
    "import pandas as pd \n",
    "from sklearn.preprocessing import StandardScaler, MinMaxScaler \n",
    "from sklearn.datasets import load_iris\n"
   ]
  },
  {
   "cell_type": "code",
   "execution_count": 3,
   "metadata": {},
   "outputs": [],
   "source": [
    "# Load the iris dataset \n",
    "iris_data = load_iris() \n",
    "iris = pd.DataFrame(data=iris_data.data, columns=iris_data.feature_names) \n",
    "iris['species'] = iris_data.target\n"
   ]
  },
  {
   "cell_type": "code",
   "execution_count": 4,
   "metadata": {},
   "outputs": [],
   "source": [
    "# Standardizing the dataset \n",
    "scaler = StandardScaler() \n",
    "iris_scaled = pd.DataFrame(scaler.fit_transform(iris.iloc[:, :-1]), columns=iris.columns[:-1]) \n",
    "# Adding the species column back to the standardized dataset \n",
    "iris_scaled['species'] = iris['species'] \n"
   ]
  },
  {
   "cell_type": "code",
   "execution_count": 5,
   "metadata": {},
   "outputs": [],
   "source": [
    "# Min-Max Scaling the dataset \n",
    "minmax_scaler = MinMaxScaler() \n",
    "iris_minmax_scaled = pd.DataFrame(minmax_scaler.fit_transform(iris.iloc[:, :-1]),  columns=iris.columns[:-1]) \n",
    "# Adding the species column back to the min-max scaled dataset \n",
    "iris_minmax_scaled['species'] = iris['species']\n"
   ]
  },
  {
   "cell_type": "code",
   "execution_count": 6,
   "metadata": {},
   "outputs": [
    {
     "name": "stdout",
     "output_type": "stream",
     "text": [
      "Original Data:\n",
      "   sepal length (cm)  sepal width (cm)  petal length (cm)  petal width (cm)  \\\n",
      "0                5.1               3.5                1.4               0.2   \n",
      "1                4.9               3.0                1.4               0.2   \n",
      "2                4.7               3.2                1.3               0.2   \n",
      "3                4.6               3.1                1.5               0.2   \n",
      "4                5.0               3.6                1.4               0.2   \n",
      "\n",
      "   species  \n",
      "0        0  \n",
      "1        0  \n",
      "2        0  \n",
      "3        0  \n",
      "4        0  \n",
      "\n",
      "Standardized Data:\n",
      "   sepal length (cm)  sepal width (cm)  petal length (cm)  petal width (cm)  \\\n",
      "0          -0.900681          1.019004          -1.340227         -1.315444   \n",
      "1          -1.143017         -0.131979          -1.340227         -1.315444   \n",
      "2          -1.385353          0.328414          -1.397064         -1.315444   \n",
      "3          -1.506521          0.098217          -1.283389         -1.315444   \n",
      "4          -1.021849          1.249201          -1.340227         -1.315444   \n",
      "\n",
      "   species  \n",
      "0        0  \n",
      "1        0  \n",
      "2        0  \n",
      "3        0  \n",
      "4        0  \n",
      "\n",
      "Min-Max Scaled Data:\n",
      "   sepal length (cm)  sepal width (cm)  petal length (cm)  petal width (cm)  \\\n",
      "0           0.222222          0.625000           0.067797          0.041667   \n",
      "1           0.166667          0.416667           0.067797          0.041667   \n",
      "2           0.111111          0.500000           0.050847          0.041667   \n",
      "3           0.083333          0.458333           0.084746          0.041667   \n",
      "4           0.194444          0.666667           0.067797          0.041667   \n",
      "\n",
      "   species  \n",
      "0        0  \n",
      "1        0  \n",
      "2        0  \n",
      "3        0  \n",
      "4        0  \n"
     ]
    }
   ],
   "source": [
    "# Display original, standardized, and scaled data \n",
    "print(\"Original Data:\") \n",
    "print(iris.head()) \n",
    "print(\"\\nStandardized Data:\") \n",
    "print(iris_scaled.head()) \n",
    "print(\"\\nMin-Max Scaled Data:\") \n",
    "print(iris_minmax_scaled.head())\n"
   ]
  }
 ],
 "metadata": {
  "kernelspec": {
   "display_name": "Python 3",
   "language": "python",
   "name": "python3"
  },
  "language_info": {
   "codemirror_mode": {
    "name": "ipython",
    "version": 3
   },
   "file_extension": ".py",
   "mimetype": "text/x-python",
   "name": "python",
   "nbconvert_exporter": "python",
   "pygments_lexer": "ipython3",
   "version": "3.12.6"
  }
 },
 "nbformat": 4,
 "nbformat_minor": 2
}
