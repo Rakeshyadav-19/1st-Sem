{
  "nbformat": 4,
  "nbformat_minor": 0,
  "metadata": {
    "colab": {
      "provenance": []
    },
    "kernelspec": {
      "name": "python3",
      "display_name": "Python 3"
    },
    "language_info": {
      "name": "python"
    }
  },
  "cells": [
    {
      "cell_type": "code",
      "execution_count": null,
      "metadata": {
        "colab": {
          "base_uri": "https://localhost:8080/"
        },
        "id": "fUPJEJ95oSwf",
        "outputId": "423ea386-a3fe-4489-a570-66971f94c4c5"
      },
      "outputs": [
        {
          "output_type": "stream",
          "name": "stdout",
          "text": [
            "Collecting scikit-surprise\n",
            "  Downloading scikit_surprise-1.1.4.tar.gz (154 kB)\n",
            "\u001b[?25l     \u001b[90m━━━━━━━━━━━━━━━━━━━━━━━━━━━━━━━━━━━━━━━━\u001b[0m \u001b[32m0.0/154.4 kB\u001b[0m \u001b[31m?\u001b[0m eta \u001b[36m-:--:--\u001b[0m\r\u001b[2K     \u001b[90m━━━━━━━━━━━━━━━━━━━━━━━━━━━━━━━━━━━━━━━━\u001b[0m \u001b[32m154.4/154.4 kB\u001b[0m \u001b[31m6.1 MB/s\u001b[0m eta \u001b[36m0:00:00\u001b[0m\n",
            "\u001b[?25h  Installing build dependencies ... \u001b[?25l\u001b[?25hdone\n",
            "  Getting requirements to build wheel ... \u001b[?25l\u001b[?25hdone\n",
            "  Preparing metadata (pyproject.toml) ... \u001b[?25l\u001b[?25hdone\n",
            "Requirement already satisfied: joblib>=1.2.0 in /usr/local/lib/python3.10/dist-packages (from scikit-surprise) (1.4.2)\n",
            "Requirement already satisfied: numpy>=1.19.5 in /usr/local/lib/python3.10/dist-packages (from scikit-surprise) (1.26.4)\n",
            "Requirement already satisfied: scipy>=1.6.0 in /usr/local/lib/python3.10/dist-packages (from scikit-surprise) (1.13.1)\n",
            "Building wheels for collected packages: scikit-surprise\n",
            "  Building wheel for scikit-surprise (pyproject.toml) ... \u001b[?25l\u001b[?25hdone\n",
            "  Created wheel for scikit-surprise: filename=scikit_surprise-1.1.4-cp310-cp310-linux_x86_64.whl size=2357272 sha256=10ea0905738915f70ad30d429609d942c7731a1663914ae739378848f7ee6d57\n",
            "  Stored in directory: /root/.cache/pip/wheels/4b/3f/df/6acbf0a40397d9bf3ff97f582cc22fb9ce66adde75bc71fd54\n",
            "Successfully built scikit-surprise\n",
            "Installing collected packages: scikit-surprise\n",
            "Successfully installed scikit-surprise-1.1.4\n"
          ]
        }
      ],
      "source": [
        "pip install scikit-surprise\n"
      ]
    },
    {
      "cell_type": "code",
      "source": [
        "import pandas as pd\n",
        "from surprise import Dataset, Reader\n",
        "from surprise import KNNBasic\n",
        "from surprise.model_selection import train_test_split\n",
        "from surprise import accuracy"
      ],
      "metadata": {
        "id": "3cn5hwyoorOC"
      },
      "execution_count": null,
      "outputs": []
    },
    {
      "cell_type": "code",
      "source": [
        "# Load the data\n",
        "data = {\n",
        "'userId': [1, 1, 1, 2, 2, 3, 3, 3, 4, 4, 5],\n",
        "'movieId': [101, 102, 103, 101, 104, 102, 103, 104, 101, 104, 103],\n",
        "'rating': [5, 3, 4, 3, 5, 2, 4, 5, 4, 4, 5]\n",
        "}\n",
        "df = pd.DataFrame(data)\n"
      ],
      "metadata": {
        "id": "FTtsRvyuqAjF"
      },
      "execution_count": null,
      "outputs": []
    },
    {
      "cell_type": "code",
      "source": [
        "# Define a reader to specify the rating scale\n",
        "reader = Reader(rating_scale=(1, 5))\n"
      ],
      "metadata": {
        "id": "n8UQK21LqBaM"
      },
      "execution_count": null,
      "outputs": []
    },
    {
      "cell_type": "code",
      "source": [
        "# Load the data into Surprise's dataset format\n",
        "surprise_data = Dataset.load_from_df(df[['userId', 'movieId', 'rating']], reader)\n"
      ],
      "metadata": {
        "id": "U6arVXKiqTin"
      },
      "execution_count": null,
      "outputs": []
    },
    {
      "cell_type": "code",
      "source": [
        "# Split the data into train and test sets\n",
        "trainset, testset = train_test_split(surprise_data, test_size=0.25, random_state=42)\n"
      ],
      "metadata": {
        "id": "YZ4K01giq7ZV"
      },
      "execution_count": null,
      "outputs": []
    },
    {
      "cell_type": "code",
      "source": [
        "# Use K-Nearest Neighbors for collaborative filtering\n",
        "algo = KNNBasic()\n"
      ],
      "metadata": {
        "id": "qvxMmCDIq_sO"
      },
      "execution_count": null,
      "outputs": []
    },
    {
      "cell_type": "code",
      "source": [
        "# Train the algorithm on the training set\n",
        "algo.fit(trainset)\n"
      ],
      "metadata": {
        "colab": {
          "base_uri": "https://localhost:8080/"
        },
        "id": "iJX8flTIrE5p",
        "outputId": "862016fa-80d0-4438-edea-d8840ff7750b"
      },
      "execution_count": null,
      "outputs": [
        {
          "output_type": "stream",
          "name": "stdout",
          "text": [
            "Computing the msd similarity matrix...\n",
            "Done computing similarity matrix.\n"
          ]
        },
        {
          "output_type": "execute_result",
          "data": {
            "text/plain": [
              "<surprise.prediction_algorithms.knns.KNNBasic at 0x7fec546ba1a0>"
            ]
          },
          "metadata": {},
          "execution_count": 8
        }
      ]
    },
    {
      "cell_type": "code",
      "source": [
        "# Test the algorithm on the test set\n",
        "predictions = algo.test(testset)\n"
      ],
      "metadata": {
        "id": "2PC9gpJJrHw1"
      },
      "execution_count": null,
      "outputs": []
    },
    {
      "cell_type": "code",
      "source": [
        "# Evaluate the algorithm\n",
        "print(\"RMSE:\", accuracy.rmse(predictions))\n"
      ],
      "metadata": {
        "colab": {
          "base_uri": "https://localhost:8080/"
        },
        "id": "hgbdUmWlrU1D",
        "outputId": "d1d665b2-c4cb-4b32-ee45-3018e05749d9"
      },
      "execution_count": null,
      "outputs": [
        {
          "output_type": "stream",
          "name": "stdout",
          "text": [
            "RMSE: 0.8165\n",
            "RMSE: 0.816496580927726\n"
          ]
        }
      ]
    },
    {
      "source": [
        "# Function to get top-n recommendations for a specific user\n",
        "def get_top_n_recommendations(algo, user_id, df, n=5):\n",
        "    # Get a list of all movie IDs\n",
        "    all_movie_ids = df['movieId'].unique()\n",
        "\n",
        "    # Predict ratings for movies not rated by the user\n",
        "    user_rated_movies = df[df['userId'] == user_id]['movieId'].tolist()\n",
        "    unrated_movies = [movie_id for movie_id in all_movie_ids if movie_id not in user_rated_movies]\n",
        "\n",
        "    # Predict the rating for each unrated movie\n",
        "    predictions = [(movie_id, algo.predict(user_id, movie_id).est) for movie_id in unrated_movies]\n",
        "\n",
        "    # Sort the predictions by estimated rating in descending order\n",
        "    sorted_predictions = sorted(predictions, key=lambda x: x[1], reverse=True)\n",
        "\n",
        "    # Get the top-n movie recommendations\n",
        "    top_n_recommendations = sorted_predictions[:n]\n",
        "\n",
        "    return top_n_recommendations\n"
      ],
      "cell_type": "code",
      "metadata": {
        "id": "JHVXsdp_sfKA"
      },
      "execution_count": null,
      "outputs": []
    },
    {
      "cell_type": "code",
      "source": [
        "# Generate recommendations for user with user_id=1\n",
        "user_id = 1\n",
        "top_n_recommendations = get_top_n_recommendations(algo, user_id, df, n=5)\n"
      ],
      "metadata": {
        "id": "IwTBkFR4wxFT"
      },
      "execution_count": null,
      "outputs": []
    },
    {
      "cell_type": "code",
      "source": [
        "# Display the top 5 movie recommendations for the user\n",
        "print(\"\\nTop 5 movie recommendations for user {}:\".format(user_id))\n",
        "for movie_id, est_rating in top_n_recommendations:\n",
        "    print(f\"Movie ID: {movie_id}, Predicted Rating: {est_rating:.2f}\")"
      ],
      "metadata": {
        "colab": {
          "base_uri": "https://localhost:8080/"
        },
        "id": "QIHQWaosxIou",
        "outputId": "a94054eb-e1af-4b67-9978-bc88dbf63d2f"
      },
      "execution_count": null,
      "outputs": [
        {
          "output_type": "stream",
          "name": "stdout",
          "text": [
            "\n",
            "Top 5 movie recommendations for user 1:\n",
            "Movie ID: 104, Predicted Rating: 4.00\n"
          ]
        }
      ]
    },
    {
      "cell_type": "code",
      "source": [],
      "metadata": {
        "id": "dpJfuxRzxbV1"
      },
      "execution_count": null,
      "outputs": []
    }
  ]
}